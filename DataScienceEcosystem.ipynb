{
 "cells": [
  {
   "cell_type": "markdown",
   "id": "68d081c7-9563-45c5-bb77-a824242ff718",
   "metadata": {},
   "source": [
    "# Data Science Tools and Ecosystem"
   ]
  },
  {
   "cell_type": "markdown",
   "id": "70517939-6f96-4618-aec8-87fd29b079dd",
   "metadata": {},
   "source": [
    "In this notebook, Data Science Tools and Ecosystem are summarized.\n",
    " "
   ]
  },
  {
   "cell_type": "markdown",
   "id": "8eee61a1-5f76-472b-a23f-d30eacdf38da",
   "metadata": {},
   "source": [
    "**objectives:**\n",
    "- List popular languages for Data Science\n",
    "- List popular libraries for Data Science\n",
    "- List popular tools of develop-environment for Data Science\n",
    "- List simple arithmetic codings on Python "
   ]
  },
  {
   "cell_type": "markdown",
   "id": "a5250f1b-eb9d-4d83-89a9-efdc4cf9e33c",
   "metadata": {},
   "source": [
    "Some of popular languages that Data Scientists use are :\n",
    "1. python\n",
    "2. R\n",
    "3. SQL\n",
    "4. C++\n",
    "5. Ruby\n",
    "6. Julia"
   ]
  },
  {
   "cell_type": "markdown",
   "id": "5858620c-ea70-4d29-a948-d0efca96a7c0",
   "metadata": {},
   "source": [
    "Some of the commonly used libraries used by Data Scientists include:\n",
    "- Pandas\n",
    "- Numpy\n",
    "- Matplotlib\n",
    "- Scikit\n",
    "- TensorFlow\n",
    "- Apache Spark\n",
    "- R Libraries"
   ]
  },
  {
   "cell_type": "markdown",
   "id": "072bdf85-6a89-4ba0-af63-92ff71eec995",
   "metadata": {},
   "source": [
    "| Data Science Tools |\n",
    "|--------------------|\n",
    "| Jupyter Lab        |\n",
    "| RStudio            |\n",
    "| Anaconda Navigator |"
   ]
  },
  {
   "cell_type": "markdown",
   "id": "ce9c5084-4ddb-473a-a09e-acb436798d89",
   "metadata": {},
   "source": [
    "### Below are a few examples of evaluating arithmetic expressions in Python."
   ]
  },
  {
   "cell_type": "code",
   "execution_count": 7,
   "id": "b1bb9fdf-015a-4a06-8fb5-04a57c25c883",
   "metadata": {},
   "outputs": [
    {
     "data": {
      "text/plain": [
       "17"
      ]
     },
     "execution_count": 7,
     "metadata": {},
     "output_type": "execute_result"
    }
   ],
   "source": [
    "# これは単純な算術式で、複数の整数を追加します。\n",
    "(3*4)+5"
   ]
  },
  {
   "cell_type": "code",
   "execution_count": 9,
   "id": "79d4c88f-0e6e-4236-b9c3-91a8bbbcbafa",
   "metadata": {},
   "outputs": [
    {
     "data": {
      "text/plain": [
       "3.3333333333333335"
      ]
     },
     "execution_count": 9,
     "metadata": {},
     "output_type": "execute_result"
    }
   ],
   "source": [
    "# 200分を60分で割り、時間に変更します。\n",
    "200/60"
   ]
  },
  {
   "cell_type": "markdown",
   "id": "50665ec9-16d6-45d9-be13-060bf5ef5bed",
   "metadata": {},
   "source": [
    "## Author \n",
    "   太田　真由美"
   ]
  },
  {
   "cell_type": "code",
   "execution_count": null,
   "id": "d71d2784-e569-4b21-a88f-1342be1780dd",
   "metadata": {},
   "outputs": [],
   "source": []
  }
 ],
 "metadata": {
  "kernelspec": {
   "display_name": "Python [conda env:base] *",
   "language": "python",
   "name": "conda-base-py"
  },
  "language_info": {
   "codemirror_mode": {
    "name": "ipython",
    "version": 3
   },
   "file_extension": ".py",
   "mimetype": "text/x-python",
   "name": "python",
   "nbconvert_exporter": "python",
   "pygments_lexer": "ipython3",
   "version": "3.13.5"
  }
 },
 "nbformat": 4,
 "nbformat_minor": 5
}
